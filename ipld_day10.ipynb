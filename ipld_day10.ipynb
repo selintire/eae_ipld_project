{
 "cells": [
  {
   "cell_type": "markdown",
   "metadata": {},
   "source": [
    "## EAE - Introduction to Programming Languages for Data \n",
    "## Day 10 - 19/02/2025\n",
    "\n",
    "### Instructor:  \n",
    "Enric Domingo  \n",
    "*Machine Learning and Software Engineer at ERNI*  \n",
    "edomingod@professional.eae.es\n",
    "\n",
    "#### Python:\n",
    "\n",
    "1. SQL Recap\n",
    "\n",
    "2. Python refresh and practice\n",
    "\n",
    "3. Extra: LLMs in Python\n",
    "\n",
    "4. Python Lab 🧪"
   ]
  },
  {
   "cell_type": "markdown",
   "metadata": {},
   "source": [
    "---\n",
    "## 1. Recap\n",
    "\n",
    "- Intermidiate SQL Commands"
   ]
  },
  {
   "cell_type": "code",
   "execution_count": null,
   "metadata": {},
   "outputs": [],
   "source": []
  },
  {
   "cell_type": "code",
   "execution_count": null,
   "metadata": {},
   "outputs": [],
   "source": [
    "# Preaparing the database for the exercises\n",
    "\n",
    "# We will create a database with 3 tables: Students, Subjects and Classrooms\n",
    "\n",
    "import sqlite3\n",
    "import os\n",
    "import pandas as pd\n",
    "\n",
    "\n",
    "if \"nba.db\" in os.listdir():\n",
    "    os.remove(\"nba.db\")\n",
    "\n",
    "if \"nba.db\" not in os.listdir():\n",
    "\n",
    "    print(\"Creating database...\")\n",
    "\n",
    "    # Connect to SQLite database (or create it)\n",
    "    connection = sqlite3.connect(\"nba.db\")\n",
    "\n",
    "    # Create cursor object\n",
    "    cursor = connection.cursor()\n",
    "\n",
    "    # Create Teams table\n",
    "    cursor.execute(\"\"\"\n",
    "    CREATE TABLE IF NOT EXISTS Teams (\n",
    "        Team_ID INTEGER PRIMARY KEY,\n",
    "        Team_Name TEXT,\n",
    "        City TEXT\n",
    "    )\n",
    "    \"\"\")\n",
    "\n",
    "    # Create Players table\n",
    "    cursor.execute(\"\"\"\n",
    "    CREATE TABLE IF NOT EXISTS Players (\n",
    "        Player_ID INTEGER PRIMARY KEY,\n",
    "        Player_Name TEXT,\n",
    "        Position TEXT,\n",
    "        Season_Points INTEGER,\n",
    "        Team_ID INTEGER,\n",
    "        FOREIGN KEY(Team_ID) REFERENCES Teams(Team_ID)\n",
    "    )\n",
    "    \"\"\")\n",
    "\n",
    "    # Create Matches table\n",
    "    cursor.execute(\"\"\"\n",
    "    CREATE TABLE IF NOT EXISTS Matches (\n",
    "        Match_ID INTEGER PRIMARY KEY,\n",
    "        Match_Date TEXT,\n",
    "        Home_Team_ID INTEGER,\n",
    "        Away_Team_ID INTEGER,\n",
    "        Home_Score INTEGER,\n",
    "        Away_Score INTEGER,\n",
    "        FOREIGN KEY(Home_Team_ID) REFERENCES Teams(Team_ID),\n",
    "        FOREIGN KEY(Away_Team_ID) REFERENCES Teams(Team_ID)\n",
    "    )\n",
    "    \"\"\")\n",
    "\n",
    "    # Insert data into Teams table\n",
    "    cursor.execute(\"INSERT INTO Teams VALUES (1, 'Lakers', 'Los Angeles')\")\n",
    "    cursor.execute(\"INSERT INTO Teams VALUES (2, 'Warriors', 'Golden State')\")\n",
    "    cursor.execute(\"INSERT INTO Teams VALUES (3, 'Nets', 'Brooklyn')\")\n",
    "    cursor.execute(\"INSERT INTO Teams VALUES (4, 'Bucks', 'Milwaukee')\")\n",
    "\n",
    "    # Insert data into Players table\n",
    "    cursor.execute(\"INSERT INTO Players VALUES (1, 'LeBron James', 'SF', 186, 1)\")\n",
    "    cursor.execute(\"INSERT INTO Players VALUES (2, 'Anthony Davis', 'PF', 157, 1)\")\n",
    "    cursor.execute(\"INSERT INTO Players VALUES (3, 'Russell Westbrook', 'PG', 178, 1)\")\n",
    "    cursor.execute(\"INSERT INTO Players VALUES (4, 'Carmelo Anthony', 'F', 231, 1)\")\n",
    "    cursor.execute(\"INSERT INTO Players VALUES (5, 'Dwight Howard', 'C', 45, 1)\")\n",
    "    cursor.execute(\"INSERT INTO Players VALUES (6, 'Rajon Rondo', 'PG', 24, 1)\")\n",
    "    cursor.execute(\"INSERT INTO Players VALUES (7, 'Jarred Vanderbilt', 'F', 120, 1)\")\n",
    "\n",
    "    cursor.execute(\"INSERT INTO Players VALUES (8, 'Stephen Curry', 'PG', 49, 2)\")\n",
    "    cursor.execute(\"INSERT INTO Players VALUES (9, 'Klay Thompson', 'SG', 15, 2)\")\n",
    "    cursor.execute(\"INSERT INTO Players VALUES (10, 'Draymond Green', 'PF', 98, 2)\")\n",
    "    cursor.execute(\"INSERT INTO Players VALUES (11, 'Andrew Wiggins', 'SF', 189, 2)\")\n",
    "    cursor.execute(\"INSERT INTO Players VALUES (12, 'James Wiseman', 'C', 73, 2)\")\n",
    "\n",
    "    cursor.execute(\"INSERT INTO Players VALUES (13, 'Kevin Durant', 'SF', 180, 3)\")\n",
    "    cursor.execute(\"INSERT INTO Players VALUES (14, 'James Harden', 'SG', 33, 3)\")\n",
    "    cursor.execute(\"INSERT INTO Players VALUES (15, 'Kyrie Irving', 'PG', 12, 3)\")\n",
    "    cursor.execute(\"INSERT INTO Players VALUES (16, 'Blake Griffin', 'PF', 206, 3)\")\n",
    "    cursor.execute(\"INSERT INTO Players VALUES (17, 'LaMarcus Aldridge', 'C', 82, 3)\")\n",
    "    cursor.execute(\"INSERT INTO Players VALUES (18, 'Giannis Antetokounmpo', 'PF', 194, 3)\")\n",
    "\n",
    "    cursor.execute(\"INSERT INTO Players VALUES (19, 'Giannis Antetokounmpo', 'PF', 245, 4)\")\n",
    "    cursor.execute(\"INSERT INTO Players VALUES (20, 'Khris Middleton', 'SF', 214, 4)\")\n",
    "    cursor.execute(\"INSERT INTO Players VALUES (21, 'Jrue Holiday', 'PG', 63, 4)\")\n",
    "    cursor.execute(\"INSERT INTO Players VALUES (22, 'Brook Lopez', 'C', 84, 4)\")\n",
    "    cursor.execute(\"INSERT INTO Players VALUES (23, 'Donte DiVincenzo', 'SG', 27, 4)\")\n",
    "    cursor.execute(\"INSERT INTO Players VALUES (24, 'MarJon Beauchamp', 'F', 171, 4)\")\n",
    "    cursor.execute(\"INSERT INTO Players VALUES (25, 'Pat Connaughton', 'SG', 59, 4)\")\n",
    "\n",
    "    # Insert data into Matches table\n",
    "    cursor.execute(\"INSERT INTO Matches VALUES (1, '2023-01-05', 1, 2, 105, 100)\")\n",
    "    cursor.execute(\"INSERT INTO Matches VALUES (2, '2023-01-15', 3, 4, 110, 115)\")\n",
    "    cursor.execute(\"INSERT INTO Matches VALUES (3, '2023-01-27', 2, 3, 120, 125)\")\n",
    "    cursor.execute(\"INSERT INTO Matches VALUES (4, '2023-02-10', 4, 1, 130, 125)\")\n",
    "    cursor.execute(\"INSERT INTO Matches VALUES (5, '2023-02-21', 1, 3, 110, 120)\")\n",
    "    cursor.execute(\"INSERT INTO Matches VALUES (6, '2023-02-22', 2, 4, 115, 120)\")\n",
    "    cursor.execute(\"INSERT INTO Matches VALUES (7, '2023-03-05', 3, 1, 105, 100)\")\n",
    "    cursor.execute(\"INSERT INTO Matches VALUES (8, '2023-03-20', 4, 2, 125, 130)\")\n",
    "    cursor.execute(\"INSERT INTO Matches VALUES (9, '2023-04-01', 1, 4, 120, 125)\")\n",
    "    cursor.execute(\"INSERT INTO Matches VALUES (10, '2023-04-08', 2, 1, 115, 120)\")\n",
    "    cursor.execute(\"INSERT INTO Matches VALUES (11, '2023-04-16', 3, 2, 110, 115)\")\n",
    "    cursor.execute(\"INSERT INTO Matches VALUES (12, '2023-04-27', 4, 3, 105, 100)\")\n",
    "\n",
    "    # Commit the changes and close the connection\n",
    "    connection.commit()\n",
    "    connection.close()\n",
    "\n",
    "    print(\"Database created!\")"
   ]
  },
  {
   "cell_type": "code",
   "execution_count": null,
   "metadata": {},
   "outputs": [],
   "source": [
    "# Let's create our own function to make this process easier\n",
    "\n",
    "def execute_query(query, database=\"nba.db\"):\n",
    "    connection = sqlite3.connect(database)\n",
    "    df = pd.read_sql(query, connection)\n",
    "    connection.close()\n",
    "\n",
    "    return df"
   ]
  },
  {
   "cell_type": "code",
   "execution_count": null,
   "metadata": {},
   "outputs": [],
   "source": [
    "query = \"\"\" \n",
    "SELECT *\n",
    "FROM Teams\n",
    "\"\"\"\n",
    "\n",
    "execute_query(query)"
   ]
  },
  {
   "cell_type": "code",
   "execution_count": null,
   "metadata": {},
   "outputs": [],
   "source": [
    "query = \"\"\"\n",
    "SELECT *\n",
    "FROM Players\n",
    "\"\"\"\n",
    "\n",
    "execute_query(query)"
   ]
  },
  {
   "cell_type": "code",
   "execution_count": null,
   "metadata": {},
   "outputs": [],
   "source": [
    "query = \"\"\"\n",
    "SELECT *\n",
    "FROM Matches\n",
    "\"\"\"\n",
    "\n",
    "execute_query(query)"
   ]
  },
  {
   "cell_type": "code",
   "execution_count": null,
   "metadata": {},
   "outputs": [],
   "source": []
  },
  {
   "cell_type": "code",
   "execution_count": null,
   "metadata": {},
   "outputs": [],
   "source": [
    "# Let's refresh the SQL Operations\n",
    "\n",
    "# Try to develop a query to get the total number of SGs () in each team\n",
    "\n",
    "query = \"\"\"\n",
    "\n",
    "\"\"\"\n",
    "\n",
    "execute_query(query)"
   ]
  },
  {
   "cell_type": "code",
   "execution_count": null,
   "metadata": {},
   "outputs": [],
   "source": []
  },
  {
   "cell_type": "code",
   "execution_count": null,
   "metadata": {},
   "outputs": [],
   "source": [
    "# Now let's refresh the JOIN operations\n",
    "\n",
    "# Try to develop a query to get all home matches from the Team 'Nets'\n",
    "\n",
    "query = \"\"\"\n",
    "\n",
    "\"\"\"\n",
    "\n",
    "execute_query(query)"
   ]
  },
  {
   "cell_type": "code",
   "execution_count": null,
   "metadata": {},
   "outputs": [],
   "source": []
  },
  {
   "cell_type": "code",
   "execution_count": null,
   "metadata": {},
   "outputs": [],
   "source": [
    "# Let's get the positions where players score on average less than 90 points per season\n",
    "\n",
    "query = \"\"\"\n",
    "\n",
    "\"\"\"\n",
    "\n",
    "execute_query(query)"
   ]
  },
  {
   "cell_type": "code",
   "execution_count": null,
   "metadata": {},
   "outputs": [],
   "source": []
  },
  {
   "cell_type": "markdown",
   "metadata": {},
   "source": [
    "---\n",
    "## 2. Python refresh and practice"
   ]
  },
  {
   "cell_type": "code",
   "execution_count": null,
   "metadata": {},
   "outputs": [],
   "source": []
  },
  {
   "cell_type": "markdown",
   "metadata": {},
   "source": [
    "#### 2.1.\n",
    "\n",
    "You will receive a list of birth_dates as a string in the format \"YYYY-MM-DD\". You have to return a dictionary with the keys \"years\", \"months\", and \"days\", having as values the list of years, months and, days respectively. For example, if the input is `[\"1990-01-01\", \"1990-01-02\", \"1990-01-03\"]`, the output should be:   \n",
    "``` python\n",
    "{\n",
    "    \"years\": [1990, 1990, 1990],\n",
    "    \"months\": [1, 1, 1],\n",
    "    \"days\": [1, 2, 3]\n",
    "}\n",
    "```\n",
    "Don't use pandas, datetime or any other library. Just Python string methods, loops, dictionaries, lists, etc."
   ]
  },
  {
   "cell_type": "code",
   "execution_count": null,
   "metadata": {},
   "outputs": [],
   "source": []
  },
  {
   "cell_type": "markdown",
   "metadata": {},
   "source": [
    "#### 2.2.\n",
    "\n",
    "Write a function that receives a string and returns it reversed. For example, if the input is \"Hello World!\", the output should be \"!dlroW olleH\".\n"
   ]
  },
  {
   "cell_type": "code",
   "execution_count": null,
   "metadata": {},
   "outputs": [],
   "source": []
  },
  {
   "cell_type": "markdown",
   "metadata": {},
   "source": [
    "#### 2.3.\n",
    "\n",
    "Write a function fizz_buzz that takes an integer n and returns a list of strings representing the FizzBuzz sequence up to n. For multiples of three, add \"Fizz\" to the list; for multiples of five, add \"Buzz\"; for multiples of both three and five, add \"FizzBuzz\"; otherwise, add the number itself as a string.\n",
    "\n",
    "Example usage:\n",
    "``` python\n",
    "n = 15\n",
    "print(fizz_buzz(n))\n",
    "['1', '2', 'Fizz', '4', 'Buzz', 'Fizz', '7', '8', 'Fizz', 'Buzz', '11', 'Fizz', '13', '14', 'FizzBuzz']\n",
    "```"
   ]
  },
  {
   "cell_type": "code",
   "execution_count": null,
   "metadata": {},
   "outputs": [],
   "source": [
    "\n"
   ]
  },
  {
   "cell_type": "markdown",
   "metadata": {},
   "source": [
    "#### 2.4.\n",
    "\n",
    "From the spotify-2023.csv file that we used in day 7, we will try to get the unique number of individual artists. To do it, first we will need to process it somehow as some arist(s)_name values contain multiple artist's name separated by a commas."
   ]
  },
  {
   "cell_type": "code",
   "execution_count": null,
   "metadata": {},
   "outputs": [],
   "source": [
    "spotify_df = pd.read_csv(\"spotify-2023.csv\")\n",
    "\n",
    "spotify_df"
   ]
  },
  {
   "cell_type": "code",
   "execution_count": null,
   "metadata": {},
   "outputs": [],
   "source": []
  },
  {
   "cell_type": "code",
   "execution_count": null,
   "metadata": {},
   "outputs": [],
   "source": [
    "# Now get the song and the artists in most spotify playlists (in_spotify_playlists)"
   ]
  },
  {
   "cell_type": "code",
   "execution_count": null,
   "metadata": {},
   "outputs": [],
   "source": []
  },
  {
   "cell_type": "code",
   "execution_count": null,
   "metadata": {},
   "outputs": [],
   "source": [
    "# Get the oldest song in the dataset"
   ]
  },
  {
   "cell_type": "markdown",
   "metadata": {},
   "source": []
  },
  {
   "cell_type": "code",
   "execution_count": null,
   "metadata": {},
   "outputs": [],
   "source": []
  },
  {
   "cell_type": "markdown",
   "metadata": {},
   "source": [
    "---\n",
    "## 3. Extra: using LLM APIs from Python "
   ]
  },
  {
   "cell_type": "code",
   "execution_count": null,
   "metadata": {},
   "outputs": [],
   "source": [
    "# !pip install openai\n",
    "\n",
    "from openai import OpenAI\n",
    "\n",
    "# this will be shared in class or you can use your own one if you have it (https://platform.openai.com)\n",
    "api_key = \"\"  "
   ]
  },
  {
   "cell_type": "code",
   "execution_count": null,
   "metadata": {},
   "outputs": [],
   "source": [
    "client = OpenAI()\n",
    "response = client.chat.completions.create(\n",
    "    model=\"gpt-4o-mini\",\n",
    "    messages=[\n",
    "        {\n",
    "            \"role\": \"user\", \n",
    "            \"content\": \"write a story about Python\"\n",
    "        }\n",
    "    ],\n",
    "    max_tokens=2000\n",
    ")\n",
    "\n",
    "response.choices[0].message.content"
   ]
  },
  {
   "cell_type": "code",
   "execution_count": null,
   "metadata": {},
   "outputs": [],
   "source": []
  },
  {
   "cell_type": "code",
   "execution_count": null,
   "metadata": {},
   "outputs": [],
   "source": []
  },
  {
   "cell_type": "markdown",
   "metadata": {},
   "source": [
    "---\n",
    "## 4. Python (mini)-Startup Lab 🧪\n",
    "\n",
    "Last activity of the subject! 🎉\n",
    "\n",
    "Now it's your turn to practice what we learnt and practiced about Python during the course. You have to find a simple and well defined problem from your daily life, work or hobbies and solve it using Python. Then, you have to present your solution to the class in 1 minut as in an elevator pitch.\n",
    "\n",
    "To do it you can use the \"Start with WHY\" method: \n",
    "\n",
    "- Start with WHY: explain the problem you want to solve and why it is important to solve it.\n",
    "\n",
    "- HOW: explain how you solved it, what tools and techniques you used.\n",
    "\n",
    "- WHAT: finally show the solution and the results.\n"
   ]
  },
  {
   "cell_type": "markdown",
   "metadata": {},
   "source": [
    "Let's see an example:\n",
    "\n",
    "#### Drone's flight time tracker\n",
    "\n",
    "Some years ago I had a drone's startup were we had differents drones that we operated every now and then. It was mandatory to keep a track of their flights and flight time, something that we did manually.\n",
    "\n",
    "I decided to solve this using Pyhton to build a dictionary of lists, were every element is a drone with its info, and then keep track of everyone of them with a list of flights and flight time.\n",
    "\n",
    "So, using my simple app, drone pilots can add new flights and the app will update the flight time of the drone in a centralized and standard format. Also, I added a function to get the total flight time of a drone."
   ]
  },
  {
   "cell_type": "code",
   "execution_count": null,
   "metadata": {},
   "outputs": [],
   "source": [
    "# Data\n",
    "\n",
    "drones_times = {\n",
    "    \"s_drone\": [23, 5, 12],\n",
    "    \"l_drone\": [15, 10],\n",
    "    \"wing_drone\": [40, 52, 27],\n",
    "}\n",
    "\n",
    "\n",
    "# app\n",
    "\n",
    "option = 0\n",
    "\n",
    "while option != 3:\n",
    "    \n",
    "    print(\"\\n\\nSelect and option:\")\n",
    "    print(\"------------------\")\n",
    "    print(\"1. Add drone flight time\")\n",
    "    print(\"2. Show drone flight time\")\n",
    "    print(\"3. Exit\")\n",
    "\n",
    "    option = int(input(\"Select an option: \"))\n",
    "\n",
    "    if option == 1:\n",
    "        drone_id = input(\"Enter the drone id: \")\n",
    "        flight_time = input(\"Enter the new flight time\")\n",
    "\n",
    "        drones_times[drone_id].append(flight_time)\n",
    "\n",
    "    elif option == 2:\n",
    "        for drone in drones_times:\n",
    "            print(drones_times, drones_times[drone], \"total:\", sum(drones_times[drone]))\n",
    "\n",
    "    elif option == 3:\n",
    "        print(\"Goodbye!\")\n",
    "\n",
    "    else:\n",
    "        print(\"Invalid option\")"
   ]
  },
  {
   "cell_type": "code",
   "execution_count": null,
   "metadata": {},
   "outputs": [
    {
     "name": "stdout",
     "output_type": "stream",
     "text": [
      "Rock, Paper, Scissors Game!\n",
      "\n",
      "Invalid choice! Please try again.\n",
      "Computer chose: scissors\n",
      "You win!\n",
      "Score - You: 1 | Computer: 0\n",
      "\n",
      "Computer chose: scissors\n",
      "You win!\n",
      "Score - You: 2 | Computer: 0\n",
      "\n",
      "Computer chose: paper\n",
      "It's a tie!\n",
      "Score - You: 2 | Computer: 0\n",
      "\n",
      "Computer chose: rock\n",
      "It's a tie!\n",
      "Score - You: 2 | Computer: 0\n",
      "\n",
      "Computer chose: rock\n",
      "It's a tie!\n",
      "Score - You: 2 | Computer: 0\n",
      "\n"
     ]
    }
   ],
   "source": [
    "import random\n",
    "\n",
    "\n",
    "def determine_winner(user_choice, computer_choice):\n",
    "    if user_choice == computer_choice:\n",
    "        return \"It's a tie!\"\n",
    "    elif (user_choice == 'rock' and computer_choice == 'scissors') or \\\n",
    "         (user_choice == 'paper' and computer_choice == 'rock') or \\\n",
    "         (user_choice == 'scissors' and computer_choice == 'paper'):\n",
    "        return \"You win!\"\n",
    "    else:\n",
    "        return \"You lose!\"\n",
    "\n",
    "def main():\n",
    "    choices = ['rock', 'paper', 'scissors']\n",
    "    user_score = 0\n",
    "    computer_score = 0\n",
    "    \n",
    "    print(\"Rock, Paper, Scissors Game!\\n\")\n",
    "\n",
    "    while True:\n",
    "      \n",
    "        user_choice = input(\"Enter rock, paper, or scissors (or 'exit' to quit): \").lower()\n",
    "        if user_choice == 'exit':\n",
    "            break\n",
    "        if user_choice not in choices:\n",
    "            print(\"Invalid choice! Please try again.\")\n",
    "            continue\n",
    "        \n",
    "        \n",
    "        computer_choice = random.choice(choices)\n",
    "        print(f\"Computer chose: {computer_choice}\")\n",
    "        \n",
    "        \n",
    "        result = determine_winner(user_choice, computer_choice)\n",
    "        print(result)\n",
    "        \n",
    "        if result == \"You win!\":\n",
    "            user_score += 1\n",
    "        elif result == \"You lose!\":\n",
    "            computer_score += 1\n",
    "\n",
    "      \n",
    "        print(f\"Score - You: {user_score} | Computer: {computer_score}\\n\")\n",
    "\n",
    "if __name__ == \"__main__\":\n",
    "    main()\n",
    "\n"
   ]
  }
 ],
 "metadata": {
  "kernelspec": {
   "display_name": ".venv",
   "language": "python",
   "name": "python3"
  },
  "language_info": {
   "codemirror_mode": {
    "name": "ipython",
    "version": 3
   },
   "file_extension": ".py",
   "mimetype": "text/x-python",
   "name": "python",
   "nbconvert_exporter": "python",
   "pygments_lexer": "ipython3",
   "version": "3.12.3"
  }
 },
 "nbformat": 4,
 "nbformat_minor": 2
}
